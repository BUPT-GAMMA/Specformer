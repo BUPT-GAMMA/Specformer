{
 "cells": [
  {
   "cell_type": "code",
   "execution_count": 7,
   "id": "4bda73d3",
   "metadata": {},
   "outputs": [],
   "source": [
    "import numpy as np\n",
    "from scipy import io\n",
    "import torch\n",
    "import dgl\n",
    "from sklearn.preprocessing import label_binarize\n",
    "from scipy.linalg import eigh\n",
    "from dglnode import *\n",
    "import scipy\n",
    "import time"
   ]
  },
  {
   "cell_type": "code",
   "execution_count": 2,
   "id": "29553852",
   "metadata": {},
   "outputs": [],
   "source": [
    "def load_fb100(filename):\n",
    "    # e.g. filename = Rutgers89 or Cornell5 or Wisconsin87 or Amherst41\n",
    "    # columns are: student/faculty, gender, major,\n",
    "    #              second major/minor, dorm/house, year/ high school\n",
    "    # 0 denotes missing entry\n",
    "    mat = io.loadmat('data/Penn94.mat')\n",
    "    A = mat['A']\n",
    "    metadata = mat['local_info']\n",
    "    return A, metadata\n",
    "\n",
    "\n",
    "def load_fb100_dataset():\n",
    "    A, metadata = load_fb100('Penn94.mat')\n",
    "\n",
    "    edge_index = torch.tensor(A.nonzero(), dtype=torch.long)\n",
    "    metadata = metadata.astype(int)\n",
    "    label = metadata[:, 1] - 1  # gender label, -1 means unlabeled\n",
    "\n",
    "    # make features into one-hot encodings\n",
    "    feature_vals = np.hstack((np.expand_dims(metadata[:, 0], 1), metadata[:, 2:]))\n",
    "    features = np.empty((A.shape[0], 0))\n",
    "    for col in range(feature_vals.shape[1]):\n",
    "        feat_col = feature_vals[:, col]\n",
    "        feat_onehot = label_binarize(feat_col, classes=np.unique(feat_col))\n",
    "        features = np.hstack((features, feat_onehot))\n",
    "\n",
    "    node_feat = torch.tensor(features, dtype=torch.float)\n",
    "    num_nodes = metadata.shape[0]\n",
    "    \n",
    "    return num_nodes, edge_index, node_feat, label"
   ]
  },
  {
   "cell_type": "code",
   "execution_count": 3,
   "id": "e965ac72",
   "metadata": {},
   "outputs": [
    {
     "name": "stderr",
     "output_type": "stream",
     "text": [
      "/home/bdy/miniconda3/lib/python3.7/site-packages/ipykernel_launcher.py:15: UserWarning: Creating a tensor from a list of numpy.ndarrays is extremely slow. Please consider converting the list to a single numpy.ndarray with numpy.array() before converting to a tensor. (Triggered internally at  ../torch/csrc/utils/tensor_new.cpp:201.)\n",
      "  from ipykernel import kernelapp as app\n"
     ]
    }
   ],
   "source": [
    "n, edeg, x, y = load_fb100_dataset()"
   ]
  },
  {
   "cell_type": "code",
   "execution_count": null,
   "id": "b046f7b0",
   "metadata": {},
   "outputs": [],
   "source": []
  },
  {
   "cell_type": "code",
   "execution_count": 4,
   "id": "cf569481",
   "metadata": {},
   "outputs": [],
   "source": [
    "g = dgl.graph((edeg[0, :], edeg[1, :]), num_nodes=n)\n",
    "g = dgl.add_reverse_edges(g)\n",
    "g = dgl.to_simple(g)"
   ]
  },
  {
   "cell_type": "code",
   "execution_count": 5,
   "id": "ef3d517b",
   "metadata": {},
   "outputs": [],
   "source": [
    "A = g.adj(scipy_fmt='csr')\n",
    "deg = np.array(A.sum(axis=0)).flatten()\n",
    "D_ = scipy.sparse.diags(deg ** -0.5)"
   ]
  },
  {
   "cell_type": "code",
   "execution_count": 6,
   "id": "c6ec4ea0",
   "metadata": {},
   "outputs": [],
   "source": [
    "A_ = D_.dot(A.dot(D_))\n",
    "L_ = scipy.sparse.eye(g.num_nodes()) - A_"
   ]
  },
  {
   "cell_type": "code",
   "execution_count": 16,
   "id": "0783c009",
   "metadata": {},
   "outputs": [],
   "source": [
    "t1 = time.time()\n",
    "e, u = scipy.sparse.linalg.eigsh(L_, k=500, which='SM', tol=1)\n",
    "t2 = time.time()"
   ]
  },
  {
   "cell_type": "code",
   "execution_count": null,
   "id": "49e5500e",
   "metadata": {},
   "outputs": [],
   "source": []
  },
  {
   "cell_type": "code",
   "execution_count": 4,
   "id": "898e8008",
   "metadata": {},
   "outputs": [],
   "source": [
    "e = torch.load('data/penn_e.pt')\n",
    "u = torch.load('data/penn_u.pt')"
   ]
  },
  {
   "cell_type": "code",
   "execution_count": 5,
   "id": "ac6cf7c9",
   "metadata": {},
   "outputs": [],
   "source": [
    "e_tensor = torch.FloatTensor(e)\n",
    "u_tensor = torch.FloatTensor(u)\n",
    "x_tensor = torch.FloatTensor(x)\n",
    "y_tensor = torch.LongTensor(y)"
   ]
  },
  {
   "cell_type": "code",
   "execution_count": 6,
   "id": "9161e06e",
   "metadata": {},
   "outputs": [],
   "source": [
    "torch.save([e_tensor, u_tensor, x_tensor, y_tensor], 'data/penn.pt')"
   ]
  },
  {
   "cell_type": "code",
   "execution_count": null,
   "id": "a5bc5964",
   "metadata": {},
   "outputs": [],
   "source": []
  },
  {
   "cell_type": "code",
   "execution_count": 5,
   "id": "32489a58",
   "metadata": {},
   "outputs": [],
   "source": [
    "dataset = DglNodePropPredDataset('ogbn-arxiv')"
   ]
  },
  {
   "cell_type": "code",
   "execution_count": 6,
   "id": "c6e5f6ba",
   "metadata": {},
   "outputs": [],
   "source": [
    "g = dataset[0][0]\n",
    "g = dgl.add_reverse_edges(g)\n",
    "g = dgl.to_simple(g)"
   ]
  },
  {
   "cell_type": "code",
   "execution_count": 7,
   "id": "eab1df78",
   "metadata": {},
   "outputs": [],
   "source": [
    "A = g.adj(scipy_fmt='csr')\n",
    "deg = np.array(A.sum(axis=0)).flatten()\n",
    "D_ = scipy.sparse.diags(deg ** -0.5)"
   ]
  },
  {
   "cell_type": "code",
   "execution_count": 8,
   "id": "ec12b3d8",
   "metadata": {},
   "outputs": [],
   "source": [
    "A_ = D_.dot(A.dot(D_))\n",
    "L_ = scipy.sparse.eye(g.num_nodes()) - A_"
   ]
  },
  {
   "cell_type": "code",
   "execution_count": null,
   "id": "5d6cfc07",
   "metadata": {},
   "outputs": [],
   "source": []
  },
  {
   "cell_type": "code",
   "execution_count": 6,
   "id": "43c6f387",
   "metadata": {},
   "outputs": [],
   "source": [
    "e1, u1 = scipy.sparse.linalg.eigsh(L_, k=5000, which='SM', tol=1e-5)"
   ]
  },
  {
   "cell_type": "code",
   "execution_count": 19,
   "id": "1d63e0c6",
   "metadata": {},
   "outputs": [],
   "source": [
    "e2, u2 = scipy.sparse.linalg.eigsh(L_, k=100, which='BE', tol=1e-5)"
   ]
  },
  {
   "cell_type": "code",
   "execution_count": 10,
   "id": "ddb88467",
   "metadata": {},
   "outputs": [],
   "source": [
    "e3, u3 = scipy.sparse.linalg.eigsh(L_, k=100, which='LM', tol=1e-5)"
   ]
  },
  {
   "cell_type": "code",
   "execution_count": null,
   "id": "365d9509",
   "metadata": {},
   "outputs": [],
   "source": []
  },
  {
   "cell_type": "code",
   "execution_count": 10,
   "id": "c9b45b05",
   "metadata": {
    "scrolled": true
   },
   "outputs": [],
   "source": [
    "e = torch.FloatTensor(e1)\n",
    "u = torch.FloatTensor(u1)"
   ]
  },
  {
   "cell_type": "code",
   "execution_count": 12,
   "id": "d0bceebb",
   "metadata": {},
   "outputs": [],
   "source": [
    "torch.save(e, 'data/arxiv_e.pt')\n",
    "torch.save(u, 'data/arxiv_u.pt')"
   ]
  },
  {
   "cell_type": "code",
   "execution_count": null,
   "id": "0fa850ab",
   "metadata": {},
   "outputs": [],
   "source": []
  },
  {
   "cell_type": "code",
   "execution_count": null,
   "id": "460ff6b3",
   "metadata": {},
   "outputs": [],
   "source": []
  },
  {
   "cell_type": "code",
   "execution_count": null,
   "id": "f3a720ee",
   "metadata": {},
   "outputs": [],
   "source": []
  },
  {
   "cell_type": "code",
   "execution_count": null,
   "id": "d24c534d",
   "metadata": {},
   "outputs": [],
   "source": []
  }
 ],
 "metadata": {
  "kernelspec": {
   "display_name": "Python 3 (ipykernel)",
   "language": "python",
   "name": "python3"
  },
  "language_info": {
   "codemirror_mode": {
    "name": "ipython",
    "version": 3
   },
   "file_extension": ".py",
   "mimetype": "text/x-python",
   "name": "python",
   "nbconvert_exporter": "python",
   "pygments_lexer": "ipython3",
   "version": "3.7.4"
  }
 },
 "nbformat": 4,
 "nbformat_minor": 5
}
